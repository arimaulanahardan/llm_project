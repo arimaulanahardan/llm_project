{
 "cells": [
  {
   "cell_type": "code",
   "execution_count": 2,
   "metadata": {},
   "outputs": [
    {
     "name": "stderr",
     "output_type": "stream",
     "text": [
      "USER_AGENT environment variable not set, consider setting it to identify your requests.\n"
     ]
    }
   ],
   "source": [
    "import bs4\n",
    "import chromadb \n",
    "from langchain import hub\n",
    "from langchain_chroma import Chroma\n",
    "from langchain_ollama import ChatOllama\n",
    "from langchain_community.document_loaders import WebBaseLoader\n",
    "from langchain_core.output_parsers import StrOutputParser\n",
    "from langchain_core.runnables import RunnablePassthrough\n",
    "from langchain_core.runnables import RunnableLambda\n",
    "from langchain_ollama import OllamaEmbeddings\n",
    "from langchain_text_splitters import RecursiveCharacterTextSplitter, CharacterTextSplitter\n",
    "from langchain_core.vectorstores import InMemoryVectorStore\n",
    "from langchain_core.prompts import ChatPromptTemplate\n",
    "from langchain_community.document_loaders import PyPDFLoader\n",
    "\n",
    "import os\n",
    "import glob"
   ]
  },
  {
   "cell_type": "code",
   "execution_count": 3,
   "metadata": {},
   "outputs": [],
   "source": [
    "TAVILY_API_KEY = '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'\n",
    "os.environ[\"TAVILY_API_KEY\"] = TAVILY_API_KEY"
   ]
  },
  {
   "cell_type": "code",
   "execution_count": 4,
   "metadata": {},
   "outputs": [],
   "source": [
    "llm = ChatOllama(name=\"chat_llama3\", model=\"krith/meta-llama-3.1-8b-instruct:IQ2_M\", temperature = 0)"
   ]
  },
  {
   "cell_type": "code",
   "execution_count": 16,
   "metadata": {},
   "outputs": [],
   "source": [
    "# check on the ollama for the embeddings model \n",
    "embeddings = OllamaEmbeddings(\n",
    "    # transform document/text into vecotr\n",
    "    model=\"nomic-embed-text\", \n",
    ")\n",
    "text_splitter = RecursiveCharacterTextSplitter(\n",
    "    # tune what the best parameter\n",
    "    chunk_size=50, \n",
    "    chunk_overlap=2)"
   ]
  },
  {
   "cell_type": "code",
   "execution_count": 17,
   "metadata": {},
   "outputs": [],
   "source": [
    "documents_path = \"data/documents/*\"\n",
    "filepaths = glob.glob(documents_path)\n",
    "documents = []\n",
    "for filepath in filepaths:\n",
    "    loader = PyPDFLoader(filepath)\n",
    "    docs = loader.load()\n",
    "    splits = text_splitter.split_documents(docs)\n",
    "    documents.extend(splits)"
   ]
  },
  {
   "cell_type": "code",
   "execution_count": 18,
   "metadata": {},
   "outputs": [
    {
     "data": {
      "text/plain": [
       "129"
      ]
     },
     "execution_count": 18,
     "metadata": {},
     "output_type": "execute_result"
    }
   ],
   "source": [
    "len(documents)"
   ]
  },
  {
   "cell_type": "code",
   "execution_count": 19,
   "metadata": {},
   "outputs": [
    {
     "data": {
      "text/plain": [
       "Document(metadata={'source': 'data/documents\\\\The Adventure Of Piko the Pinguin.pdf', 'page': 0}, page_content='TheAdventureofPikothePenguin')"
      ]
     },
     "execution_count": 19,
     "metadata": {},
     "output_type": "execute_result"
    }
   ],
   "source": [
    "documents[0]"
   ]
  },
  {
   "cell_type": "code",
   "execution_count": 20,
   "metadata": {},
   "outputs": [],
   "source": [
    "db = Chroma(persist_directory=\"data/chroma_db\", embedding_function=embeddings)\n",
    "db.delete_collection()\n",
    "db = Chroma.from_documents(documents, embeddings, persist_directory=\"data/chroma_db\")"
   ]
  },
  {
   "cell_type": "code",
   "execution_count": 21,
   "metadata": {},
   "outputs": [],
   "source": [
    "retriever = db.as_retriever(search_type=\"similarity\", search_kwargs={\"k\":5})"
   ]
  },
  {
   "cell_type": "code",
   "execution_count": 22,
   "metadata": {},
   "outputs": [
    {
     "data": {
      "text/plain": [
       "[Document(metadata={'page': 0, 'source': 'data/documents\\\\The Adventure Of Piko the Pinguin.pdf'}, page_content='for fish, Piko had a specialfascination with the'),\n",
       " Document(metadata={'page': 0, 'source': 'data/documents\\\\The Adventure Of Piko the Pinguin.pdf'}, page_content='diving for fish, Piko had a specialfascination'),\n",
       " Document(metadata={'page': 0, 'source': 'data/documents\\\\The Adventure Of Piko the Pinguin.pdf'}, page_content='gave up. When he finally reached the top, Piko'),\n",
       " Document(metadata={'page': 0, 'source': 'data/documents\\\\The Adventure Of Piko the Pinguin.pdf'}, page_content='Piko had a specialfascination with the sky. He'),\n",
       " Document(metadata={'page': 0, 'source': 'data/documents\\\\The Adventure Of Piko the Pinguin.pdf'}, page_content='One chilly morning, Piko decided it was time to')]"
      ]
     },
     "execution_count": 22,
     "metadata": {},
     "output_type": "execute_result"
    }
   ],
   "source": [
    "retrieved_documents = retriever.invoke(\"Piko\")\n",
    "retrieved_documents"
   ]
  },
  {
   "cell_type": "code",
   "execution_count": 24,
   "metadata": {},
   "outputs": [
    {
     "name": "stdout",
     "output_type": "stream",
     "text": [
      "{'context': 'Pikowasknownasthebravest penguininthecolony.\\n\\nfor fish, Piko had a specialfascination with the\\n\\nlittlepenguinnamedPiko.Unlike the other penguins,\\n\\nsliding on ice and diving for fish, Piko had a\\n\\ndiving for fish, Piko had a specialfascination', 'question': 'Who is Piko, He is Penguin?'}\n"
     ]
    },
    {
     "data": {
      "text/plain": [
       "\"I don't have enough information to determine who Piko is. The context only mentions that there is a little penguin named Piko, but it doesn't provide any further details about the person being asked about.\""
      ]
     },
     "execution_count": 24,
     "metadata": {},
     "output_type": "execute_result"
    }
   ],
   "source": [
    "def format_docs(docs):\n",
    "    return \"\\n\\n\".join(doc.page_content for doc in docs)\n",
    "\n",
    "def inspect(state):\n",
    "    \"\"\"Print the state passed between Runnables in a langchain and pass it on\"\"\"\n",
    "    print(state)\n",
    "    return state\n",
    "\n",
    "prompt = \"\"\"\n",
    "You are an assistant for question-answering tasks. Use the following pieces of retrieved context to answer the question. If you don't know the answer, just say that you don't know. Use three sentences maximum and keep the answer concise.\n",
    "\n",
    "Question: {question} \n",
    "\n",
    "Context: {context} \n",
    "\n",
    "Answer:\n",
    "\"\"\"\n",
    "\n",
    "rag_prompt = ChatPromptTemplate.from_messages({'system_message',prompt})\n",
    "\n",
    "rag_chain = (\n",
    "    {\"context\": retriever | format_docs, \"question\": RunnablePassthrough()}\n",
    "    | RunnableLambda(inspect)\n",
    "    | rag_prompt\n",
    "    | llm\n",
    "    | StrOutputParser()\n",
    ")\n",
    "\n",
    "rag_chain.invoke(\"Who is Piko?\")"
   ]
  },
  {
   "cell_type": "code",
   "execution_count": 25,
   "metadata": {},
   "outputs": [
    {
     "name": "stdout",
     "output_type": "stream",
     "text": [
      "{'context': 'gave up. When he finally reached the top, Piko\\n\\nsliding on ice and diving for fish, Piko had a\\n\\ndiving for fish, Piko had a specialfascination\\n\\nfor fish, Piko had a specialfascination with the\\n\\nOne chilly morning, Piko decided it was time to', 'question': 'What the hardest part of the adventure for Piko?'}\n"
     ]
    },
    {
     "data": {
      "text/plain": [
       "\"I'm not able to find any information about Piko's adventure. However, I can try to help you if you provide more context or clarify what you are referring to.\""
      ]
     },
     "execution_count": 25,
     "metadata": {},
     "output_type": "execute_result"
    }
   ],
   "source": [
    "rag_chain.invoke(\"What the hardest part of the adventure for Piko?\")"
   ]
  },
  {
   "cell_type": "code",
   "execution_count": 26,
   "metadata": {},
   "outputs": [],
   "source": [
    "from langchain.chains import RetrievalQA\n",
    "\n",
    "qa = RetrievalQA.from_chain_type(\n",
    "    llm=llm, chain_type=\"stuff\", retriever=retriever, return_source_documents=True)\n"
   ]
  },
  {
   "cell_type": "code",
   "execution_count": 27,
   "metadata": {},
   "outputs": [
    {
     "name": "stdout",
     "output_type": "stream",
     "text": [
      "{'query': 'Where piko come from?', 'result': 'There is no information in the text about where Piko came from.', 'source_documents': [Document(metadata={'page': 0, 'source': 'data/documents\\\\The Adventure Of Piko the Pinguin.pdf'}, page_content='for fish, Piko had a specialfascination with the'), Document(metadata={'page': 0, 'source': 'data/documents\\\\The Adventure Of Piko the Pinguin.pdf'}, page_content='diving for fish, Piko had a specialfascination'), Document(metadata={'page': 0, 'source': 'data/documents\\\\The Adventure Of Piko the Pinguin.pdf'}, page_content='morning, Piko decided it was time to find out. \"I'), Document(metadata={'page': 0, 'source': 'data/documents\\\\The Adventure Of Piko the Pinguin.pdf'}, page_content='fish, Piko had a specialfascination with the sky.'), Document(metadata={'page': 0, 'source': 'data/documents\\\\The Adventure Of Piko the Pinguin.pdf'}, page_content='sliding on ice and diving for fish, Piko had a')]}\n"
     ]
    }
   ],
   "source": [
    "query = \"Where piko come from?\"\n",
    "result = qa({\"query\": query})\n",
    "print(result)"
   ]
  },
  {
   "cell_type": "code",
   "execution_count": 28,
   "metadata": {},
   "outputs": [],
   "source": [
    "from langchain.retrievers.multi_query import MultiQueryRetriever\n",
    "from langchain_openai import ChatOpenAI\n",
    "\n",
    "question = \"which country is Piko From? is Piko Animal?\"\n",
    "retriever_from_llm = MultiQueryRetriever.from_llm(\n",
    "    retriever=db.as_retriever(), llm=llm\n",
    ")"
   ]
  },
  {
   "cell_type": "code",
   "execution_count": 29,
   "metadata": {},
   "outputs": [
    {
     "name": "stdout",
     "output_type": "stream",
     "text": [
      "{'context': 'and tucked it in his soft feathers.\"Thankyou,\\n\\nand wonder, \"What liesbeyondtheicymountains?\"\\n\\nwonders ifyou’recuriousenoughtoseekthem. Now, let\\n\\n\"That’swhyI musttry, Lala. I want toseewhat’sout\\n\\nfor fish, Piko had a specialfascination with the\\n\\ndiving for fish, Piko had a specialfascination\\n\\nsliding on ice and diving for fish, Piko had a\\n\\nfish, Piko had a specialfascination with the sky.', 'question': 'is Piko Animal?'}\n"
     ]
    },
    {
     "data": {
      "text/plain": [
       "'Yes, Piko is an animal.'"
      ]
     },
     "execution_count": 29,
     "metadata": {},
     "output_type": "execute_result"
    }
   ],
   "source": [
    "def format_docs(docs):\n",
    "    return \"\\n\\n\".join(doc.page_content for doc in docs)\n",
    "\n",
    "def inspect(state):\n",
    "    \"\"\"Print the state passed between Runnables in a langchain and pass it on\"\"\"\n",
    "    print(state)\n",
    "    return state\n",
    "\n",
    "prompt = \"\"\"\n",
    "You are an assistant for question-answering tasks. Use the following pieces of retrieved context to answer the question. If you don't know the answer, just say that you don't know. Use three sentences maximum and keep the answer concise.\n",
    "\n",
    "Question: {question} \n",
    "\n",
    "Context: {context} \n",
    "\n",
    "Answer:\n",
    "\"\"\"\n",
    "\n",
    "rag_prompt = ChatPromptTemplate.from_messages({'system_message',prompt})\n",
    "\n",
    "rag_chain = (\n",
    "    {\"context\": retriever_from_llm | format_docs, \"question\": RunnablePassthrough()}\n",
    "    | RunnableLambda(inspect)\n",
    "    | rag_prompt\n",
    "    | llm\n",
    "    | StrOutputParser()\n",
    ")\n",
    "\n",
    "rag_chain.invoke(\"is Piko Animal?\")"
   ]
  },
  {
   "cell_type": "code",
   "execution_count": null,
   "metadata": {},
   "outputs": [],
   "source": []
  }
 ],
 "metadata": {
  "kernelspec": {
   "display_name": ".venv",
   "language": "python",
   "name": "python3"
  },
  "language_info": {
   "codemirror_mode": {
    "name": "ipython",
    "version": 3
   },
   "file_extension": ".py",
   "mimetype": "text/x-python",
   "name": "python",
   "nbconvert_exporter": "python",
   "pygments_lexer": "ipython3",
   "version": "3.12.3"
  }
 },
 "nbformat": 4,
 "nbformat_minor": 2
}
