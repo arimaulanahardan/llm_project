{
 "cells": [
  {
   "cell_type": "code",
   "execution_count": 1,
   "metadata": {},
   "outputs": [],
   "source": [
    "from langchain_ollama import ChatOllama"
   ]
  },
  {
   "cell_type": "code",
   "execution_count": 19,
   "metadata": {},
   "outputs": [],
   "source": [
    "# llm1 = ChatOllama(model=\"krith/meta-llama-3.1-8b-instruct:IQ2_M\")\n",
    "llm2 = ChatOllama(model=\"llama3.2:1b\")"
   ]
  },
  {
   "cell_type": "code",
   "execution_count": 10,
   "metadata": {},
   "outputs": [
    {
     "data": {
      "text/plain": [
       "'Hello. Is there something I can help you with or would you like to chat?'"
      ]
     },
     "execution_count": 10,
     "metadata": {},
     "output_type": "execute_result"
    }
   ],
   "source": [
    "llm2.invoke(\"hello\").content"
   ]
  },
  {
   "cell_type": "code",
   "execution_count": 14,
   "metadata": {},
   "outputs": [
    {
     "name": "stdout",
     "output_type": "stream",
     "text": [
      "content='I would classify the text as positive. The sentence expresses enthusiastic praise for the event, using words like \"great,\" \"amazing,\" and \"perfect\" to convey a positive sentiment. There are no negative or neutral language choices in this sentence.' additional_kwargs={} response_metadata={'model': 'llama3.2:1b', 'created_at': '2024-11-20T06:57:51.2770797Z', 'message': {'role': 'assistant', 'content': ''}, 'done_reason': 'stop', 'done': True, 'total_duration': 2838921300, 'load_duration': 24295200, 'prompt_eval_count': 59, 'prompt_eval_duration': 59969000, 'eval_count': 50, 'eval_duration': 2752960000} id='run-0d6d899e-b58d-48b4-b77f-d4428daf6fd0-0' usage_metadata={'input_tokens': 59, 'output_tokens': 50, 'total_tokens': 109}\n"
     ]
    }
   ],
   "source": [
    "# Zero Shot Prompting\n",
    "prompt = \"\"\"Classify the following text as either positive, negative, or neutral: 'I had a great time at the concert, the music was amazing and the atmosphere was perfect!\"\"\"\n",
    "print(llm2.invoke(prompt).content)"
   ]
  },
  {
   "cell_type": "code",
   "execution_count": 12,
   "metadata": {},
   "outputs": [
    {
     "name": "stdout",
     "output_type": "stream",
     "text": [
      "Based on the examples provided:\n",
      "\n",
      "- \"I love this new phone! It's so fast and the camera quality is amazing.\"\n",
      "\n",
      "*   Positive: The adjectives used are positive (\"fast\", \"amazing\") to describe the phone.\n",
      "\n",
      "- \"The service at the restaurant was terrible, and the food was cold.\"\n",
      "\n",
      "*   Negative: The adjectives used are negative (\"terrible\", \"cold\") to describe the service.\n",
      "\n",
      "- \"The movie was okay, not great but not bad either.\"\n",
      "\n",
      "*   Neutral: The adjectives used here are neutral (\"okay\"), indicating no strong positive or negative emotion towards the movie.\n",
      "\n",
      "- 'I had a great time at the concert, the music was amazing and the atmosphere was perfect!'\n",
      "\n",
      "*   Positive: The adjectives used (\"great\", \"amazing\") to describe the time spent at the concert.\n"
     ]
    }
   ],
   "source": [
    "# Few Shot Prompting\n",
    "prompt = \"\"\"\n",
    "Classify the as either positive, negative, or neutral, following the example\n",
    "\n",
    "Example 1: \"I love this new phone! It's so fast and the camera quality is amazing.\" → Positive\n",
    "Example 2: \"The service at the restaurant was terrible, and the food was cold.\" → Negative\n",
    "Example 3: \"The movie was okay, not great but not bad either.\" → Neutral\n",
    "\n",
    "Now, classify the following text: 'I had a great time at the concert, the music was amazing and the atmosphere was perfect!'\n",
    "\"\"\"\n",
    "print(llm2.invoke(prompt).content)"
   ]
  },
  {
   "cell_type": "code",
   "execution_count": 15,
   "metadata": {},
   "outputs": [
    {
     "name": "stdout",
     "output_type": "stream",
     "text": [
      "{\n",
      "  \"text\": \"I had a great time at the concert, the music was amazing and the atmosphere was perfect!\",\n",
      "  \"sentiment\": \"Positive\"\n",
      "}\n"
     ]
    }
   ],
   "source": [
    "prompt = \"\"\"\n",
    "Classify the as either positive, negative, or neutral, following the example\n",
    "\n",
    "Example 1: \"I love this new phone! It's so fast and the camera quality is amazing.\" → Positive\n",
    "Example 2: \"The service at the restaurant was terrible, and the food was cold.\" → Negative\n",
    "Example 3: \"The movie was okay, not great but not bad either.\" → Neutral\n",
    "\n",
    "Please return the result as a JSON object with the structure:\n",
    "{\n",
    "    \"text\": \"<the text>\",\n",
    "    \"sentiment\": \"<Positive/Negative/Neutral>\"\n",
    "}\n",
    "\n",
    "Now, classify the following text: 'I had a great time at the concert, the music was amazing and the atmosphere was perfect!'\n",
    "\"\"\"\n",
    "\n",
    "# Assuming `llm.invoke` works as expected\n",
    "response = llm2.invoke(prompt).content\n",
    "print(response)"
   ]
  },
  {
   "cell_type": "code",
   "execution_count": 21,
   "metadata": {},
   "outputs": [
    {
     "name": "stdout",
     "output_type": "stream",
     "text": [
      "To solve this problem, let's break it down step by step:\n",
      "\n",
      "11 multiplied by 9 can be written as (10 + 1) times 9.\n",
      "Now, calculate each part:\n",
      "10 times 9 = 90\n",
      "1 times 9 = 9\n",
      "Finally, add 90 and 9: 90 + 9 = 99.\n",
      "\n",
      "Therefore, the answer is 99.\n"
     ]
    }
   ],
   "source": [
    "# Chain of Thought\n",
    "prompt = \"\"\"\n",
    "Let's solve the problem step by step:\n",
    "Example : What is 12 multiplied by 8?\n",
    "\n",
    "First, break down the problem: \n",
    "12 times 8 is the same as (10 + 2) times 8.\n",
    "Now, calculate each part:\n",
    "10 times 8 = 80\n",
    "2 times 8 = 16\n",
    "Finally, add 80 and 16: 80 + 16 = 96.\n",
    "\n",
    "Therefore, the answer is 96.\n",
    "\n",
    "Question : What is 11 multiple by 9\n",
    "\"\"\"\n",
    "\n",
    "print(llm2.invoke(prompt).content)"
   ]
  },
  {
   "cell_type": "code",
   "execution_count": 49,
   "metadata": {},
   "outputs": [
    {
     "name": "stdout",
     "output_type": "stream",
     "text": [
      "I'm happy to help you solve the problem step by step.\n",
      "\n",
      "Let's break down the problem:\n",
      "\n",
      "11 multiplied by 9 is the same as (10 + 1) times 9.\n",
      "\n",
      "Now, calculate each part:\n",
      "10 times 9 = 90\n",
      "1 times 9 = 9\n",
      "\n",
      "Finally, add 90 and 9: 90 + 9 = 99.\n",
      "\n",
      "Therefore, the answer is 99.\n"
     ]
    }
   ],
   "source": [
    "# Chain of Thought\n",
    "prompt = \"\"\"\n",
    "Let's solve the problem step by step:\n",
    "Example : What is 12 multiplied by 8?\n",
    "\n",
    "First, break down the problem: \n",
    "12 times 8 is the same as (10 + 2) times 8.\n",
    "Now, calculate each part:\n",
    "10 times 8 = 80\n",
    "2 times 8 = 16\n",
    "Finally, add 80 and 16: 80 + 16 = 96.\n",
    "\n",
    "Therefore, the answer is 96.\n",
    "\n",
    "Question : What is 11 multiple by 9\n",
    "\"\"\"\n",
    "\n",
    "print(llm2.invoke(prompt).content)"
   ]
  },
  {
   "cell_type": "code",
   "execution_count": 22,
   "metadata": {},
   "outputs": [],
   "source": [
    "# Function Calling\n",
    "\n",
    "def add(a: int, b: int) -> int:\n",
    "    \"\"\"Add two integers.\n",
    "\n",
    "    Args:\n",
    "        a: First integer\n",
    "        b: Second integer\n",
    "    \"\"\"\n",
    "    return a + b\n",
    "\n",
    "\n",
    "def multiply(a: int, b: int) -> int:\n",
    "    \"\"\"Multiply two integers.\n",
    "\n",
    "    Args:\n",
    "        a: First integer\n",
    "        b: Second integer\n",
    "    \"\"\"\n",
    "    return a * b\n",
    "\n",
    "tools = [add,multiply]\n",
    "llm_with_tools = llm2.bind_tools(tools)"
   ]
  },
  {
   "cell_type": "code",
   "execution_count": 23,
   "metadata": {},
   "outputs": [
    {
     "name": "stdout",
     "output_type": "stream",
     "text": [
      "To find the result, I'll multiply 11 by 9.\n",
      "\n",
      "11 * 9 = 99\n",
      "{'model': 'llama3.2:1b', 'created_at': '2024-11-20T07:04:12.06407Z', 'message': {'role': 'assistant', 'content': '', 'tool_calls': [{'function': {'name': 'multiply', 'arguments': {'a': '11', 'b': '9'}}}]}, 'done_reason': 'stop', 'done': True, 'total_duration': 5132525600, 'load_duration': 29390900, 'prompt_eval_count': 226, 'prompt_eval_duration': 3751362000, 'eval_count': 22, 'eval_duration': 1349077000}\n"
     ]
    }
   ],
   "source": [
    "prompt = \"What is 11 multiple by 9\"\n",
    "print(llm2.invoke(prompt).content)\n",
    "print(llm_with_tools.invoke(prompt).response_metadata)"
   ]
  },
  {
   "cell_type": "code",
   "execution_count": 24,
   "metadata": {},
   "outputs": [
    {
     "data": {
      "text/plain": [
       "\"Indonesia's first president was Sukarno (also known as Soekarno). He served as the country's head of state and government from August 17, 1945, to December 27, 1967. Sukarno was a key figure in Indonesia's struggle for independence from Dutch colonial rule, and he played a significant role in shaping the country's early years.\\n\\nSukarno was born on September 6, 1893, in Banyuwangi, East Java, Indonesia. He studied law at the University of Amsterdam before returning to Indonesia and becoming involved in the independence movement. In 1945, Sukarno declared Indonesia's independence from the Netherlands, and he became the country's first president.\\n\\nUnder Sukarno's leadership, Indonesia experienced a period of rapid modernization and economic growth, but it also faced challenges such as social unrest, ethnic conflicts, and external pressures from other countries. Sukarno died on December 27, 1970, due to complications from heart disease.\\n\\nSukarno's presidency was marked by his advocacy for the principles of Pancasila, which emphasize the importance of unity, democracy, and secularism in Indonesian society. He also sought to establish a socialist-oriented economy and promote economic development through cooperation with other countries in Southeast Asia.\\n\\nDespite his significant contributions to Indonesia's history, Sukarno's presidency was also marred by controversy and criticism, particularly regarding his handling of internal conflicts and his relationship with the military. Nevertheless, he remains an important figure in Indonesian history and a symbol of the country's struggle for independence and self-determination.\""
      ]
     },
     "execution_count": 24,
     "metadata": {},
     "output_type": "execute_result"
    }
   ],
   "source": [
    "from langchain_core.prompts import ChatPromptTemplate\n",
    "from langchain.schema import StrOutputParser\n",
    "\n",
    "prompt = ChatPromptTemplate.from_messages(\n",
    "        [\n",
    "            (\n",
    "                \"system\",\n",
    "                \"You're a very knowledgeble historian.\",\n",
    "            ),\n",
    "            (\"human\", \"{question}\"),\n",
    "        ]\n",
    "    )\n",
    "    \n",
    "model = ChatOllama(model=\"llama3.2:1b\", temparature = 1)\n",
    "chain = prompt | model | StrOutputParser()\n",
    "\n",
    "prompt = \"Who is Indonesia 1st President ?\"\n",
    "chain.invoke(prompt)"
   ]
  },
  {
   "cell_type": "code",
   "execution_count": 25,
   "metadata": {},
   "outputs": [
    {
     "data": {
      "text/plain": [
       "\"Indonesia's first president was Soekarno (also spelled Sukarno). He served as the country's first president from August 17, 1945, until his death on October 27, 1970. Soekarno was a key figure in Indonesia's struggle for independence from Dutch colonial rule and played a leading role in shaping the country's early years.\\n\\nSoekarno was born in 1901 in Mojokerto, East Java, and rose to prominence as a lawyer and politician. He co-founded the Indonesian National Revolution (Gerakan Pembebasan Nasional) with Hatta in 1927, which aimed to challenge Dutch colonial rule in Indonesia.\\n\\nIn 1945, Soekarno became the country's first head of state after the collapse of the Dutch East Indies. He played a crucial role in establishing the Indonesian Republic and was a key figure in drafting the country's constitution and national anthem.\\n\\nSoekarno served as president from August 17, 1945, until his death in 1970. He was succeeded by Suharto, who ruled Indonesia as President of Indonesia from 1967 to 1998.\""
      ]
     },
     "execution_count": 25,
     "metadata": {},
     "output_type": "execute_result"
    }
   ],
   "source": [
    "from langchain_core.prompts import ChatPromptTemplate\n",
    "from langchain.schema import StrOutputParser\n",
    "\n",
    "prompt = ChatPromptTemplate.from_messages(\n",
    "        [\n",
    "            (\n",
    "                \"system\",\n",
    "                \"You're a very knowledgeble historian.\",\n",
    "            ),\n",
    "            (\"human\", \"{question}\"),\n",
    "        ]\n",
    "    )\n",
    "    \n",
    "model = ChatOllama(model=\"llama3.2:1b\", temparature = 0)\n",
    "chain = prompt | model | StrOutputParser()\n",
    "\n",
    "prompt = \"Who is Indonesia 1st President ?\"\n",
    "chain.invoke(prompt)"
   ]
  },
  {
   "cell_type": "code",
   "execution_count": 31,
   "metadata": {},
   "outputs": [
    {
     "name": "stdout",
     "output_type": "stream",
     "text": [
      "greet: {'messages': [('ai', \"Hello! I'm your weather assistant. Where are you located?\")]}\n",
      "get_location: {'location': 'tokyo'}\n",
      "check_weather: {'weather': 'sunny'}\n",
      "report_weather: {'messages': [('ai', 'The weather in tokyo is sunny. Can I help you with anything else?')]}\n"
     ]
    }
   ],
   "source": [
    "# Langgraph \n",
    "\n",
    "import operator\n",
    "from typing import TypedDict\n",
    "from typing_extensions import Annotated\n",
    "from langgraph.graph import StateGraph, END\n",
    "\n",
    "\n",
    "# Define our state\n",
    "class State(TypedDict):\n",
    "    messages: Annotated[list, operator.add]\n",
    "    location: str\n",
    "    weather: str\n",
    "\n",
    "\n",
    "# Create our graph\n",
    "workflow = StateGraph(State)\n",
    "\n",
    "\n",
    "# Define our nodes\n",
    "def greet(state):\n",
    "    return {\"messages\": [(\"ai\", \"Hello! I'm your weather assistant. Where are you located?\")]}\n",
    "\n",
    "\n",
    "def get_location(state):\n",
    "    # getting the location from gmap\n",
    "    return {\"location\": \"tokyo\"}\n",
    "\n",
    "\n",
    "def check_weather(state):\n",
    "    # In a real app, we'd call a weather API here\n",
    "\n",
    "    weather = \"sunny\" if \"tokyo\" in state[\"location\"].lower() else \"rainy\"\n",
    "    return {\"weather\": weather}\n",
    "\n",
    "\n",
    "def report_weather(state):\n",
    "    return {\"messages\": [\n",
    "        (\"ai\", f\"The weather in {state['location']} is {state['weather']}. Can I help you with anything else?\")]}\n",
    "\n",
    "\n",
    "# Add nodes to our graph\n",
    "workflow.add_node(\"greet\", greet)\n",
    "workflow.add_node(\"get_location\", get_location)\n",
    "workflow.add_node(\"check_weather\", check_weather)\n",
    "workflow.add_node(\"report_weather\", report_weather)\n",
    "\n",
    "# Connect our nodes\n",
    "workflow.set_entry_point(\"greet\")\n",
    "workflow.add_edge(\"greet\", \"get_location\")\n",
    "workflow.add_edge(\"get_location\", \"check_weather\")\n",
    "workflow.add_edge(\"check_weather\", \"report_weather\")\n",
    "workflow.add_edge(\"report_weather\", END)\n",
    "\n",
    "# Compile our graph\n",
    "app = workflow.compile()\n",
    "\n",
    "# Run our app\n",
    "inputs = {\"messages\": [(\"human\", \"Hi, I'd like to check the weather.\")]}\n",
    "for output in app.stream(inputs):\n",
    "    for key, value in output.items():\n",
    "        print(f\"{key}: {value}\")"
   ]
  },
  {
   "cell_type": "code",
   "execution_count": 3,
   "metadata": {},
   "outputs": [
    {
     "data": {
      "image/jpeg": "[encoded data removed]",
      "text/plain": [
       "<IPython.core.display.Image object>"
      ]
     },
     "metadata": {},
     "output_type": "display_data"
    }
   ],
   "source": [
    "from IPython.display import Image, display\n",
    "\n",
    "# Assuming you have already created and compiled your graph as 'app'\n",
    "png_graph = app.get_graph().draw_mermaid_png()\n",
    "display(Image(png_graph))"
   ]
  }
 ],
 "metadata": {
  "kernelspec": {
   "display_name": ".venv",
   "language": "python",
   "name": "python3"
  },
  "language_info": {
   "codemirror_mode": {
    "name": "ipython",
    "version": 3
   },
   "file_extension": ".py",
   "mimetype": "text/x-python",
   "name": "python",
   "nbconvert_exporter": "python",
   "pygments_lexer": "ipython3",
   "version": "3.12.3"
  }
 },
 "nbformat": 4,
 "nbformat_minor": 2
}
