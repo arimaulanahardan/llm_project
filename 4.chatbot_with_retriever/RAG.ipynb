{
 "cells": [
  {
   "cell_type": "code",
   "execution_count": 2,
   "metadata": {},
   "outputs": [
    {
     "name": "stderr",
     "output_type": "stream",
     "text": [
      "USER_AGENT environment variable not set, consider setting it to identify your requests.\n"
     ]
    }
   ],
   "source": [
    "import bs4\n",
    "import chromadb \n",
    "from langchain import hub\n",
    "from langchain_chroma import Chroma\n",
    "from langchain_ollama import ChatOllama\n",
    "from langchain_community.document_loaders import WebBaseLoader\n",
    "from langchain_core.output_parsers import StrOutputParser\n",
    "from langchain_core.runnables import RunnablePassthrough\n",
    "from langchain_core.runnables import RunnableLambda\n",
    "from langchain_ollama import OllamaEmbeddings\n",
    "from langchain_text_splitters import RecursiveCharacterTextSplitter\n",
    "from langchain_core.vectorstores import InMemoryVectorStore\n",
    "from langchain_core.prompts import ChatPromptTemplate\n",
    "from langchain_community.document_loaders import PyPDFLoader\n",
    "\n",
    "\n",
    "import os\n",
    "import glob"
   ]
  },
  {
   "cell_type": "code",
   "execution_count": 3,
   "metadata": {},
   "outputs": [],
   "source": [
    "TAVILY_API_KEY = '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'\n",
    "os.environ[\"TAVILY_API_KEY\"] = TAVILY_API_KEY"
   ]
  },
  {
   "cell_type": "code",
   "execution_count": 4,
   "metadata": {},
   "outputs": [],
   "source": [
    "llm = ChatOllama(name=\"chat_llama3\", model=\"krith/meta-llama-3.1-8b-instruct:IQ2_M\", temperature = 0)"
   ]
  },
  {
   "cell_type": "code",
   "execution_count": 5,
   "metadata": {},
   "outputs": [],
   "source": [
    "embeddings = OllamaEmbeddings(\n",
    "    model=\"nomic-embed-text\",\n",
    ")\n",
    "text_splitter = RecursiveCharacterTextSplitter(chunk_size=200, chunk_overlap=50)"
   ]
  },
  {
   "cell_type": "code",
   "execution_count": 6,
   "metadata": {},
   "outputs": [],
   "source": [
    "documents_path = \"data/documents/*\"\n",
    "filepaths = glob.glob(documents_path)\n",
    "documents = []\n",
    "for filepath in filepaths:\n",
    "    loader = PyPDFLoader(filepath)\n",
    "    docs = loader.load()\n",
    "    splits = text_splitter.split_documents(docs)\n",
    "    documents.extend(splits)"
   ]
  },
  {
   "cell_type": "code",
   "execution_count": 7,
   "metadata": {},
   "outputs": [
    {
     "data": {
      "text/plain": [
       "55"
      ]
     },
     "execution_count": 7,
     "metadata": {},
     "output_type": "execute_result"
    }
   ],
   "source": [
    "len(documents)"
   ]
  },
  {
   "cell_type": "code",
   "execution_count": 8,
   "metadata": {},
   "outputs": [],
   "source": [
    "db = Chroma(persist_directory=\"data/chroma_db\", embedding_function=embeddings)\n",
    "db.delete_collection()\n",
    "db = Chroma.from_documents(documents, embeddings, persist_directory=\"data/chroma_db\")"
   ]
  },
  {
   "cell_type": "code",
   "execution_count": 9,
   "metadata": {},
   "outputs": [],
   "source": [
    "retriever = db.as_retriever(search_type=\"similarity\", search_kwargs={\"k\":5})"
   ]
  },
  {
   "cell_type": "code",
   "execution_count": 10,
   "metadata": {},
   "outputs": [
    {
     "data": {
      "text/plain": [
       "[Document(metadata={'page': 0, 'source': 'data/documents\\\\Resume_Dev._2024_Ari Maulana.pdf'}, page_content='ARI MAULANA HARDAN \\n+6287818901144 | arimaulanahardan@gmail.com | https://www.linkedin.com/in/ari-maulana-hardan/ | \\nhttps://github.com/arimaulanahardan | @arimaulanahardan'),\n",
       " Document(metadata={'page': 1, 'source': 'data/documents\\\\Resume_Dev._2024_Ari Maulana.pdf'}, page_content='Language : Indonesia (Native) & English (proficient)'),\n",
       " Document(metadata={'page': 1, 'source': 'data/documents\\\\Resume_Dev._2024_Ari Maulana.pdf'}, page_content='Ditjen Diktiristek, Ministry of Education, Culture, Research, and Technology (https://shorturl.at/kjqAI)'),\n",
       " Document(metadata={'page': 1, 'source': 'data/documents\\\\Resume_Dev._2024_Ari Maulana.pdf'}, page_content='Ditjen Diktiristek, Ministry of Education, Culture, Research, and Technology (https://shorturl.at/nnxaC)'),\n",
       " Document(metadata={'page': 0, 'source': 'data/documents\\\\Resume_Dev._2024_Ari Maulana.pdf'}, page_content='with Keras, NLP (Natural language Processing), Deep Learning with Tensorflow, SQL, Statistic, AI for bussiness implementation  \\n \\nEXPERIENCE \\nPT. KODE INKORPORASI TECHNOLOGI (KODINK) Bandung, 2024')]"
      ]
     },
     "execution_count": 10,
     "metadata": {},
     "output_type": "execute_result"
    }
   ],
   "source": [
    "retrieved_documents = retriever.invoke(\"Insan Ramadhan\")\n",
    "retrieved_documents"
   ]
  },
  {
   "cell_type": "code",
   "execution_count": 11,
   "metadata": {},
   "outputs": [
    {
     "name": "stdout",
     "output_type": "stream",
     "text": [
      "{'context': 'ARI MAULANA HARDAN \\n+6287818901144 | arimaulanahardan@gmail.com | https://www.linkedin.com/in/ari-maulana-hardan/ | \\nhttps://github.com/arimaulanahardan | @arimaulanahardan\\n\\nLanguage : Indonesia (Native) & English (proficient)\\n\\nDitjen Diktiristek, Ministry of Education, Culture, Research, and Technology (https://shorturl.at/kjqAI)\\n\\nFullstack Developer (Part-Time) \\n• Developed and deployed a comprehensive web application for HIPMI E -Katalog, an online platform facilitating the promotion \\nand sale of products by HIPMI members.\\n\\n• Coordinated business initiatives, organized events, and facilitated partnerships with external stakeholders.  \\n \\nHead of External Relations Division, Computer Students Association 2022 – 2023', 'question': 'who is Ari Maulana ?'}\n"
     ]
    },
    {
     "data": {
      "text/plain": [
       "\"I don't have enough information to determine who Ari Maulana is. However, based on the context provided, it appears that Ari Maulana Hardan is a fullstack developer and has held various roles, including Head of External Relations Division at Computer Students Association from 2022-2023.\""
      ]
     },
     "execution_count": 11,
     "metadata": {},
     "output_type": "execute_result"
    }
   ],
   "source": [
    "def format_docs(docs):\n",
    "    return \"\\n\\n\".join(doc.page_content for doc in docs)\n",
    "\n",
    "def inspect(state):\n",
    "    \"\"\"Print the state passed between Runnables in a langchain and pass it on\"\"\"\n",
    "    print(state)\n",
    "    return state\n",
    "\n",
    "prompt = \"\"\"\n",
    "You are an assistant for question-answering tasks. Use the following pieces of retrieved context to answer the question. If you don't know the answer, just say that you don't know. Use three sentences maximum and keep the answer concise.\n",
    "\n",
    "Question: {question} \n",
    "\n",
    "Context: {context} \n",
    "\n",
    "Answer:\n",
    "\"\"\"\n",
    "\n",
    "rag_prompt = ChatPromptTemplate.from_messages({'system_message',prompt})\n",
    "\n",
    "rag_chain = (\n",
    "    {\"context\": retriever | format_docs, \"question\": RunnablePassthrough()}\n",
    "    | RunnableLambda(inspect)\n",
    "    | rag_prompt\n",
    "    | llm\n",
    "    | StrOutputParser()\n",
    ")\n",
    "\n",
    "rag_chain.invoke(\"who is Ari Maulana ?\")"
   ]
  },
  {
   "cell_type": "code",
   "execution_count": 12,
   "metadata": {},
   "outputs": [
    {
     "name": "stdout",
     "output_type": "stream",
     "text": [
      "{'context': 'Available on : (It will be displayed if needed because this is an internal company application. ) \\n \\nFREELANCER PROJECT  Bandung, 2021-2024\\n\\nARI MAULANA HARDAN \\n+6287818901144 | arimaulanahardan@gmail.com | https://www.linkedin.com/in/ari-maulana-hardan/ | \\nhttps://github.com/arimaulanahardan | @arimaulanahardan\\n\\nFunded Student Creativity Program PKM-PI schema Bandung, 04/2023 \\nBELMAWA of Kemendikbudristek (https://shorturl.at/GQjTH)\\n\\nBandung, West java, Indonesia 40559 \\n \\nPortfolio : https://shorturl.at/PepIz \\n \\nPROFESSIONAL SUMMARY\\n\\nPROFESSIONAL SUMMARY \\nI am a fresh Computer Science graduate from Bandung State Polytechnic (Polban) with 2 years of internship experience  as a Software', 'question': 'How long Ari works at Bandung State Polytechnic ?'}\n"
     ]
    },
    {
     "data": {
      "text/plain": [
       "'Based on the context, Ari works at Bandung State Polytechnic for 2 years.'"
      ]
     },
     "execution_count": 12,
     "metadata": {},
     "output_type": "execute_result"
    }
   ],
   "source": [
    "rag_chain.invoke(\"How long Ari works at Bandung State Polytechnic ?\")"
   ]
  },
  {
   "cell_type": "code",
   "execution_count": 13,
   "metadata": {},
   "outputs": [],
   "source": [
    "from langchain.chains import RetrievalQA\n",
    "\n",
    "qa = RetrievalQA.from_chain_type(\n",
    "    llm=llm, chain_type=\"stuff\", retriever=retriever, return_source_documents=True)\n"
   ]
  },
  {
   "cell_type": "code",
   "execution_count": 14,
   "metadata": {},
   "outputs": [
    {
     "name": "stderr",
     "output_type": "stream",
     "text": [
      "C:\\Users\\arima\\AppData\\Local\\Temp\\ipykernel_5856\\1055156215.py:2: LangChainDeprecationWarning: The method `Chain.__call__` was deprecated in langchain 0.1.0 and will be removed in 1.0. Use :meth:`~invoke` instead.\n",
      "  result = qa({\"query\": query})\n"
     ]
    },
    {
     "name": "stdout",
     "output_type": "stream",
     "text": [
      "{'query': 'which coutry Ari Maulana from?', 'result': 'Based on the context provided, I believe Ari Maulana is from Indonesia. His LinkedIn profile mentions that he speaks Indonesian as his native language and English as a proficient language, suggesting that he is from Indonesia. Additionally, his email address and GitHub link are also related to Indonesia.', 'source_documents': [Document(metadata={'page': 0, 'source': 'data/documents\\\\Resume_Dev._2024_Ari Maulana.pdf'}, page_content='ARI MAULANA HARDAN \\n+6287818901144 | arimaulanahardan@gmail.com | https://www.linkedin.com/in/ari-maulana-hardan/ | \\nhttps://github.com/arimaulanahardan | @arimaulanahardan'), Document(metadata={'page': 1, 'source': 'data/documents\\\\Resume_Dev._2024_Ari Maulana.pdf'}, page_content='Language : Indonesia (Native) & English (proficient)'), Document(metadata={'page': 1, 'source': 'data/documents\\\\Resume_Dev._2024_Ari Maulana.pdf'}, page_content='Ditjen Diktiristek, Ministry of Education, Culture, Research, and Technology (https://shorturl.at/kjqAI)'), Document(metadata={'page': 1, 'source': 'data/documents\\\\Resume_Dev._2024_Ari Maulana.pdf'}, page_content='Ditjen Diktiristek, Ministry of Education, Culture, Research, and Technology (https://shorturl.at/nnxaC)'), Document(metadata={'page': 1, 'source': 'data/documents\\\\Resume_Dev._2024_Ari Maulana.pdf'}, page_content='• Led student entrepreneurship programs, mentored aspiring entrepreneurs, and organized workshops and seminars.')]}\n"
     ]
    }
   ],
   "source": [
    "query = \"which coutry Ari Maulana from?\"\n",
    "result = qa({\"query\": query})\n",
    "print(result)"
   ]
  },
  {
   "cell_type": "code",
   "execution_count": 15,
   "metadata": {},
   "outputs": [],
   "source": [
    "from langchain.retrievers.multi_query import MultiQueryRetriever\n",
    "from langchain_openai import ChatOpenAI\n",
    "\n",
    "question = \"which country is Ari Maulana from ? is he speak english ?\"\n",
    "retriever_from_llm = MultiQueryRetriever.from_llm(\n",
    "    retriever=db.as_retriever(), llm=llm\n",
    ")"
   ]
  },
  {
   "cell_type": "code",
   "execution_count": 16,
   "metadata": {},
   "outputs": [
    {
     "name": "stdout",
     "output_type": "stream",
     "text": [
      "{'context': '• Implemented fuzzy logic to handle uncertainty and imprecision in risk assessment. \\n• Available on : https://risiko.spi-polban.site/home  \\n \\nTRAINING AND CERTIFICATION\\n\\n• Improved the quality of business education and increased student participation in entrepreneurial activities. \\n \\nADDITIONAL INFORMATIONS\\n\\nDatabase : MongoDB, MySQL, PostgreSQL, Firebase, SQLite, Oracle \\nTools : Github, Postman, Notion, Trello, Figma, VS Code, Selenium, Draw.io, PowerBI, Bizagi, Google Collab.\\n\\n• Significantly improved data loading speed from >20 seconds to <3 seconds by optimizing data fetching and rendering.\\n\\nLanguage : Indonesia (Native) & English (proficient)\\n\\nARI MAULANA HARDAN \\n+6287818901144 | arimaulanahardan@gmail.com | https://www.linkedin.com/in/ari-maulana-hardan/ | \\nhttps://github.com/arimaulanahardan | @arimaulanahardan\\n\\n• Achieved 1st place among 812 teams in a national competition hosted by Politeknik Negeri Batam. Developed a chatbot integrated\\n\\n• Secured 2nd place in a national competition at Politeknik Negeri Surabaya. Created a WhatsApp chatbot  for automating \\nmembership card issuance with TypeScript, MongoDB, and Baylejs.\\n\\n• Led student entrepreneurship programs, mentored aspiring entrepreneurs, and organized workshops and seminars.', 'question': 'which country is Ari Maulana from ? is he speak english ?'}\n"
     ]
    },
    {
     "data": {
      "text/plain": [
       "'Ari Maulana is from Indonesia. He speaks English proficiently as he has mentioned it in his profile.'"
      ]
     },
     "execution_count": 16,
     "metadata": {},
     "output_type": "execute_result"
    }
   ],
   "source": [
    "def format_docs(docs):\n",
    "    return \"\\n\\n\".join(doc.page_content for doc in docs)\n",
    "\n",
    "def inspect(state):\n",
    "    \"\"\"Print the state passed between Runnables in a langchain and pass it on\"\"\"\n",
    "    print(state)\n",
    "    return state\n",
    "\n",
    "prompt = \"\"\"\n",
    "You are an assistant for question-answering tasks. Use the following pieces of retrieved context to answer the question. If you don't know the answer, just say that you don't know. Use three sentences maximum and keep the answer concise.\n",
    "\n",
    "Question: {question} \n",
    "\n",
    "Context: {context} \n",
    "\n",
    "Answer:\n",
    "\"\"\"\n",
    "\n",
    "rag_prompt = ChatPromptTemplate.from_messages({'system_message',prompt})\n",
    "\n",
    "rag_chain = (\n",
    "    {\"context\": retriever_from_llm | format_docs, \"question\": RunnablePassthrough()}\n",
    "    | RunnableLambda(inspect)\n",
    "    | rag_prompt\n",
    "    | llm\n",
    "    | StrOutputParser()\n",
    ")\n",
    "\n",
    "rag_chain.invoke(\"which country is Ari Maulana from ? is he speak english ?\")"
   ]
  },
  {
   "cell_type": "code",
   "execution_count": null,
   "metadata": {},
   "outputs": [],
   "source": []
  }
 ],
 "metadata": {
  "kernelspec": {
   "display_name": ".venv",
   "language": "python",
   "name": "python3"
  },
  "language_info": {
   "codemirror_mode": {
    "name": "ipython",
    "version": 3
   },
   "file_extension": ".py",
   "mimetype": "text/x-python",
   "name": "python",
   "nbconvert_exporter": "python",
   "pygments_lexer": "ipython3",
   "version": "3.12.3"
  }
 },
 "nbformat": 4,
 "nbformat_minor": 2
}
