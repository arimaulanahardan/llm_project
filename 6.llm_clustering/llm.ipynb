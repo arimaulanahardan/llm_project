{
 "cells": [
  {
   "cell_type": "code",
   "execution_count": 5,
   "metadata": {},
   "outputs": [],
   "source": [
    "import pandas as pd\n",
    "import json\n",
    "\n",
    "# function to read file_path and metadata\n",
    "def read_file(file_path):\n",
    "    df = pd.read_csv(file_path)\n",
    "    return df\n",
    "\n",
    "data = read_file('data/BankChurners.csv')\n"
   ]
  },
  {
   "cell_type": "code",
   "execution_count": 7,
   "metadata": {},
   "outputs": [],
   "source": [
    "def read_json(filepath):\n",
    "    \"\"\"\n",
    "    Reads a JSON file from the specified file path.\n",
    "\n",
    "    Args:\n",
    "        filepath (str): Path to the JSON file.\n",
    "\n",
    "    Returns:\n",
    "        dict or list: Parsed JSON data as a Python dictionary or list.\n",
    "    \"\"\"\n",
    "    try:\n",
    "        with open(filepath, 'r') as file:\n",
    "            data = json.load(file)\n",
    "        return data\n",
    "    except FileNotFoundError:\n",
    "        print(f\"Error: The file at {filepath} was not found.\")\n",
    "    except json.JSONDecodeError as e:\n",
    "        print(f\"Error: Fail to decode JSON from {filepath}.\")"
   ]
  },
  {
   "cell_type": "code",
   "execution_count": 8,
   "metadata": {},
   "outputs": [],
   "source": [
    "# drop the ID \n",
    "temp = data.iloc[:,1:]\n",
    "temp.head()\n",
    "\n",
    "categorical_feature = temp.select_dtypes(include='object').columns\n",
    "numerical_faeture = temp.select_dtypes(exclude='object').columns"
   ]
  }
 ],
 "metadata": {
  "kernelspec": {
   "display_name": ".venv",
   "language": "python",
   "name": "python3"
  },
  "language_info": {
   "codemirror_mode": {
    "name": "ipython",
    "version": 3
   },
   "file_extension": ".py",
   "mimetype": "text/x-python",
   "name": "python",
   "nbconvert_exporter": "python",
   "pygments_lexer": "ipython3",
   "version": "3.12.3"
  }
 },
 "nbformat": 4,
 "nbformat_minor": 2
}
